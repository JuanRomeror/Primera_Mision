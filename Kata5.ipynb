{
 "cells": [
  {
   "cell_type": "markdown",
   "metadata": {},
   "source": [
    "Ejercicio1 - Utilizar operadores aritméticos"
   ]
  },
  {
   "cell_type": "code",
   "execution_count": 2,
   "metadata": {},
   "outputs": [],
   "source": [
    "tierra = 149597870\n",
    "jupiter = 778547200"
   ]
  },
  {
   "cell_type": "code",
   "execution_count": 6,
   "metadata": {},
   "outputs": [
    {
     "name": "stdout",
     "output_type": "stream",
     "text": [
      "-628949330 km\n",
      "-390577533.93 mi\n"
     ]
    }
   ],
   "source": [
    "distance_km = tierra - jupiter\n",
    "\n",
    "print(str(distance_km)+ \" km\" )\n",
    "\n",
    "distance_mi = distance_km * 0.621\n",
    "print(str(distance_mi)+ \" mi\" )"
   ]
  },
  {
   "cell_type": "markdown",
   "metadata": {},
   "source": [
    "Ejercicio 2: convierte cadenas en números y usa valores absolutos"
   ]
  },
  {
   "cell_type": "markdown",
   "metadata": {},
   "source": [
    "Crear una aplicación para trabajar con números y entrada de usuario"
   ]
  },
  {
   "cell_type": "code",
   "execution_count": 8,
   "metadata": {},
   "outputs": [],
   "source": [
    "marte = input('Introduzca la distancia del sol a marte en KM')\n",
    "mercurio = input('Introduzca la distancia desde el sol a mercurio en KM')"
   ]
  },
  {
   "cell_type": "markdown",
   "metadata": {},
   "source": [
    "Convertir valores ingresados"
   ]
  },
  {
   "cell_type": "code",
   "execution_count": 9,
   "metadata": {},
   "outputs": [],
   "source": [
    "marte = int(marte)\n",
    "mercurio = int(mercurio)"
   ]
  },
  {
   "cell_type": "code",
   "execution_count": 10,
   "metadata": {},
   "outputs": [
    {
     "name": "stdout",
     "output_type": "stream",
     "text": [
      "170000000 km\n",
      "105570000.0 mi\n"
     ]
    }
   ],
   "source": [
    "distance_km = marte - mercurio\n",
    "print(str(distance_km)+ \" km\")\n",
    "\n",
    "distance_mi = distance_km * 0.621\n",
    "print(str(distance_mi)+ \" mi\" )"
   ]
  }
 ],
 "metadata": {
  "interpreter": {
   "hash": "a410b4312fc01284646dab2801d82e17c241c6377d8aa83be49a42692ce7dc07"
  },
  "kernelspec": {
   "display_name": "Python 3.10.2 64-bit (windows store)",
   "language": "python",
   "name": "python3"
  },
  "language_info": {
   "codemirror_mode": {
    "name": "ipython",
    "version": 3
   },
   "file_extension": ".py",
   "mimetype": "text/x-python",
   "name": "python",
   "nbconvert_exporter": "python",
   "pygments_lexer": "ipython3",
   "version": "3.10.2"
  },
  "orig_nbformat": 4
 },
 "nbformat": 4,
 "nbformat_minor": 2
}
